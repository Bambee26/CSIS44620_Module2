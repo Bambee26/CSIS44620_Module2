{
 "cells": [
  {
   "cell_type": "markdown",
   "metadata": {},
   "source": [
    "# Web Mining and Applied NLP (44-620)\n",
    "\n",
    "## Python Notebooks, Basics, and Data Structures\n",
    "\n",
    "### Student Name: Bambee Garfield\n",
    "\n",
    "[Link to CSIS44620_Module2 repository](https://github.com/Bambee26/CSIS44620_Module2)"
   ]
  },
  {
   "cell_type": "markdown",
   "metadata": {},
   "source": [
    "### Question 10"
   ]
  },
  {
   "cell_type": "code",
   "execution_count": 4,
   "metadata": {},
   "outputs": [
    {
     "name": "stdout",
     "output_type": "stream",
     "text": [
      "*      *\n",
      "**    **\n",
      "***  ***\n",
      "********\n"
     ]
    }
   ],
   "source": [
    "# Loop to draw the pattern\n",
    "for i in range(1, 5):\n",
    "    # Print left side of the pattern\n",
    "    print('*' * i, end='')\n",
    "    # Print spaces in the middle\n",
    "    print(' ' * (8 - 2 * i), end='')\n",
    "    # Print right side of the pattern\n",
    "    print('*' * i)"
   ]
  },
  {
   "cell_type": "code",
   "execution_count": 5,
   "metadata": {},
   "outputs": [
    {
     "name": "stderr",
     "output_type": "stream",
     "text": [
      "[NbConvertApp] Converting notebook S565741.ipynb to html\n",
      "[NbConvertApp] Writing 269360 bytes to S565741.html\n"
     ]
    }
   ],
   "source": [
    "!jupyter nbconvert --to html S565741.ipynb"
   ]
  }
 ],
 "metadata": {
  "kernelspec": {
   "display_name": "Python 3",
   "language": "python",
   "name": "python3"
  },
  "language_info": {
   "codemirror_mode": {
    "name": "ipython",
    "version": 3
   },
   "file_extension": ".py",
   "mimetype": "text/x-python",
   "name": "python",
   "nbconvert_exporter": "python",
   "pygments_lexer": "ipython3",
   "version": "3.11.8"
  }
 },
 "nbformat": 4,
 "nbformat_minor": 2
}
